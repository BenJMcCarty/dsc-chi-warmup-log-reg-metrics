{
 "cells": [
  {
   "cell_type": "markdown",
   "metadata": {},
   "source": [
    "# Do you even compare the metrics of your models bro"
   ]
  },
  {
   "cell_type": "code",
   "execution_count": 44,
   "metadata": {
    "ExecuteTime": {
     "end_time": "2021-07-26T13:44:53.618224Z",
     "start_time": "2021-07-26T13:44:53.585842Z"
    }
   },
   "outputs": [],
   "source": [
    "#run as-is\n",
    "\n",
    "import pandas as pd\n",
    "\n",
    "from sklearn.datasets import make_classification\n",
    "\n",
    "from sklearn.preprocessing import StandardScaler\n",
    "\n",
    "from sklearn.linear_model import LogisticRegression\n",
    "from sklearn.metrics import confusion_matrix, plot_confusion_matrix, classification_report, plot_roc_curve\n",
    "from sklearn.model_selection import train_test_split\n",
    "\n",
    "import matplotlib.pyplot as plt\n",
    "\n",
    "data = make_classification(n_samples=10000, random_state=666, n_informative=6)\n",
    "\n",
    "X = pd.DataFrame(data[0])\n",
    "y = data[1]\n",
    "\n",
    "data = X.copy()\n",
    "data['target'] = y"
   ]
  },
  {
   "cell_type": "markdown",
   "metadata": {},
   "source": [
    "#### How many features in `data`?  How many classes?  Is there a class imbalance?"
   ]
  },
  {
   "cell_type": "code",
   "execution_count": 10,
   "metadata": {
    "ExecuteTime": {
     "end_time": "2021-07-26T13:22:34.787775Z",
     "start_time": "2021-07-26T13:22:34.706777Z"
    }
   },
   "outputs": [
    {
     "data": {
      "text/html": [
       "<div>\n",
       "<style scoped>\n",
       "    .dataframe tbody tr th:only-of-type {\n",
       "        vertical-align: middle;\n",
       "    }\n",
       "\n",
       "    .dataframe tbody tr th {\n",
       "        vertical-align: top;\n",
       "    }\n",
       "\n",
       "    .dataframe thead th {\n",
       "        text-align: right;\n",
       "    }\n",
       "</style>\n",
       "<table border=\"1\" class=\"dataframe\">\n",
       "  <thead>\n",
       "    <tr style=\"text-align: right;\">\n",
       "      <th></th>\n",
       "      <th>0</th>\n",
       "      <th>1</th>\n",
       "      <th>2</th>\n",
       "      <th>3</th>\n",
       "      <th>4</th>\n",
       "      <th>5</th>\n",
       "      <th>6</th>\n",
       "      <th>7</th>\n",
       "      <th>8</th>\n",
       "      <th>9</th>\n",
       "      <th>...</th>\n",
       "      <th>11</th>\n",
       "      <th>12</th>\n",
       "      <th>13</th>\n",
       "      <th>14</th>\n",
       "      <th>15</th>\n",
       "      <th>16</th>\n",
       "      <th>17</th>\n",
       "      <th>18</th>\n",
       "      <th>19</th>\n",
       "      <th>target</th>\n",
       "    </tr>\n",
       "  </thead>\n",
       "  <tbody>\n",
       "    <tr>\n",
       "      <th>count</th>\n",
       "      <td>10000.000000</td>\n",
       "      <td>10000.000000</td>\n",
       "      <td>10000.000000</td>\n",
       "      <td>10000.000000</td>\n",
       "      <td>10000.000000</td>\n",
       "      <td>10000.000000</td>\n",
       "      <td>10000.000000</td>\n",
       "      <td>10000.000000</td>\n",
       "      <td>10000.000000</td>\n",
       "      <td>10000.000000</td>\n",
       "      <td>...</td>\n",
       "      <td>10000.000000</td>\n",
       "      <td>10000.000000</td>\n",
       "      <td>10000.000000</td>\n",
       "      <td>10000.000000</td>\n",
       "      <td>10000.000000</td>\n",
       "      <td>10000.000000</td>\n",
       "      <td>10000.000000</td>\n",
       "      <td>10000.000000</td>\n",
       "      <td>10000.000000</td>\n",
       "      <td>10000.000000</td>\n",
       "    </tr>\n",
       "    <tr>\n",
       "      <th>mean</th>\n",
       "      <td>0.047426</td>\n",
       "      <td>0.001262</td>\n",
       "      <td>0.009409</td>\n",
       "      <td>-0.984810</td>\n",
       "      <td>0.029707</td>\n",
       "      <td>0.003775</td>\n",
       "      <td>-0.507632</td>\n",
       "      <td>0.017509</td>\n",
       "      <td>-0.015795</td>\n",
       "      <td>0.001107</td>\n",
       "      <td>...</td>\n",
       "      <td>0.022596</td>\n",
       "      <td>-0.011685</td>\n",
       "      <td>0.518786</td>\n",
       "      <td>0.003125</td>\n",
       "      <td>0.004473</td>\n",
       "      <td>0.777638</td>\n",
       "      <td>-0.003698</td>\n",
       "      <td>-0.504460</td>\n",
       "      <td>-0.004944</td>\n",
       "      <td>0.499600</td>\n",
       "    </tr>\n",
       "    <tr>\n",
       "      <th>std</th>\n",
       "      <td>2.113713</td>\n",
       "      <td>1.002555</td>\n",
       "      <td>1.709822</td>\n",
       "      <td>1.342651</td>\n",
       "      <td>1.925238</td>\n",
       "      <td>0.991712</td>\n",
       "      <td>1.645245</td>\n",
       "      <td>0.992204</td>\n",
       "      <td>1.003442</td>\n",
       "      <td>1.003310</td>\n",
       "      <td>...</td>\n",
       "      <td>0.998053</td>\n",
       "      <td>0.991342</td>\n",
       "      <td>1.807160</td>\n",
       "      <td>0.993287</td>\n",
       "      <td>0.998520</td>\n",
       "      <td>2.238087</td>\n",
       "      <td>0.996981</td>\n",
       "      <td>1.669316</td>\n",
       "      <td>0.996607</td>\n",
       "      <td>0.500025</td>\n",
       "    </tr>\n",
       "    <tr>\n",
       "      <th>min</th>\n",
       "      <td>-10.815670</td>\n",
       "      <td>-4.053760</td>\n",
       "      <td>-4.805634</td>\n",
       "      <td>-7.205780</td>\n",
       "      <td>-6.960690</td>\n",
       "      <td>-4.045246</td>\n",
       "      <td>-7.347161</td>\n",
       "      <td>-3.744947</td>\n",
       "      <td>-3.573493</td>\n",
       "      <td>-3.563479</td>\n",
       "      <td>...</td>\n",
       "      <td>-4.152376</td>\n",
       "      <td>-4.129424</td>\n",
       "      <td>-5.816367</td>\n",
       "      <td>-3.650499</td>\n",
       "      <td>-3.784189</td>\n",
       "      <td>-6.284353</td>\n",
       "      <td>-4.191037</td>\n",
       "      <td>-6.505326</td>\n",
       "      <td>-4.940640</td>\n",
       "      <td>0.000000</td>\n",
       "    </tr>\n",
       "    <tr>\n",
       "      <th>25%</th>\n",
       "      <td>-1.208187</td>\n",
       "      <td>-0.663321</td>\n",
       "      <td>-1.235571</td>\n",
       "      <td>-1.777991</td>\n",
       "      <td>-1.268203</td>\n",
       "      <td>-0.679164</td>\n",
       "      <td>-1.629727</td>\n",
       "      <td>-0.653572</td>\n",
       "      <td>-0.700202</td>\n",
       "      <td>-0.678241</td>\n",
       "      <td>...</td>\n",
       "      <td>-0.643716</td>\n",
       "      <td>-0.676067</td>\n",
       "      <td>-0.723655</td>\n",
       "      <td>-0.677824</td>\n",
       "      <td>-0.653865</td>\n",
       "      <td>-0.819720</td>\n",
       "      <td>-0.677925</td>\n",
       "      <td>-1.557157</td>\n",
       "      <td>-0.684362</td>\n",
       "      <td>0.000000</td>\n",
       "    </tr>\n",
       "    <tr>\n",
       "      <th>50%</th>\n",
       "      <td>0.205316</td>\n",
       "      <td>-0.005653</td>\n",
       "      <td>-0.188923</td>\n",
       "      <td>-0.990643</td>\n",
       "      <td>0.073177</td>\n",
       "      <td>0.002687</td>\n",
       "      <td>-0.527357</td>\n",
       "      <td>0.017758</td>\n",
       "      <td>-0.021341</td>\n",
       "      <td>0.013586</td>\n",
       "      <td>...</td>\n",
       "      <td>0.020412</td>\n",
       "      <td>0.002989</td>\n",
       "      <td>0.537565</td>\n",
       "      <td>-0.001667</td>\n",
       "      <td>0.005032</td>\n",
       "      <td>0.762738</td>\n",
       "      <td>-0.005047</td>\n",
       "      <td>-0.652369</td>\n",
       "      <td>-0.001781</td>\n",
       "      <td>0.000000</td>\n",
       "    </tr>\n",
       "    <tr>\n",
       "      <th>75%</th>\n",
       "      <td>1.481395</td>\n",
       "      <td>0.680125</td>\n",
       "      <td>1.127041</td>\n",
       "      <td>-0.187811</td>\n",
       "      <td>1.359280</td>\n",
       "      <td>0.674258</td>\n",
       "      <td>0.640132</td>\n",
       "      <td>0.683644</td>\n",
       "      <td>0.663577</td>\n",
       "      <td>0.682270</td>\n",
       "      <td>...</td>\n",
       "      <td>0.686818</td>\n",
       "      <td>0.651143</td>\n",
       "      <td>1.750244</td>\n",
       "      <td>0.684668</td>\n",
       "      <td>0.685858</td>\n",
       "      <td>2.386938</td>\n",
       "      <td>0.655119</td>\n",
       "      <td>0.477578</td>\n",
       "      <td>0.668673</td>\n",
       "      <td>1.000000</td>\n",
       "    </tr>\n",
       "    <tr>\n",
       "      <th>max</th>\n",
       "      <td>6.994064</td>\n",
       "      <td>3.953283</td>\n",
       "      <td>6.386710</td>\n",
       "      <td>5.136473</td>\n",
       "      <td>7.599124</td>\n",
       "      <td>3.986217</td>\n",
       "      <td>5.324941</td>\n",
       "      <td>4.091164</td>\n",
       "      <td>3.672437</td>\n",
       "      <td>4.396441</td>\n",
       "      <td>...</td>\n",
       "      <td>3.781176</td>\n",
       "      <td>3.612928</td>\n",
       "      <td>6.934468</td>\n",
       "      <td>3.985126</td>\n",
       "      <td>3.634264</td>\n",
       "      <td>9.345701</td>\n",
       "      <td>3.465004</td>\n",
       "      <td>7.400703</td>\n",
       "      <td>4.342353</td>\n",
       "      <td>1.000000</td>\n",
       "    </tr>\n",
       "  </tbody>\n",
       "</table>\n",
       "<p>8 rows × 21 columns</p>\n",
       "</div>"
      ],
      "text/plain": [
       "                  0             1             2             3             4  \\\n",
       "count  10000.000000  10000.000000  10000.000000  10000.000000  10000.000000   \n",
       "mean       0.047426      0.001262      0.009409     -0.984810      0.029707   \n",
       "std        2.113713      1.002555      1.709822      1.342651      1.925238   \n",
       "min      -10.815670     -4.053760     -4.805634     -7.205780     -6.960690   \n",
       "25%       -1.208187     -0.663321     -1.235571     -1.777991     -1.268203   \n",
       "50%        0.205316     -0.005653     -0.188923     -0.990643      0.073177   \n",
       "75%        1.481395      0.680125      1.127041     -0.187811      1.359280   \n",
       "max        6.994064      3.953283      6.386710      5.136473      7.599124   \n",
       "\n",
       "                  5             6             7             8             9  \\\n",
       "count  10000.000000  10000.000000  10000.000000  10000.000000  10000.000000   \n",
       "mean       0.003775     -0.507632      0.017509     -0.015795      0.001107   \n",
       "std        0.991712      1.645245      0.992204      1.003442      1.003310   \n",
       "min       -4.045246     -7.347161     -3.744947     -3.573493     -3.563479   \n",
       "25%       -0.679164     -1.629727     -0.653572     -0.700202     -0.678241   \n",
       "50%        0.002687     -0.527357      0.017758     -0.021341      0.013586   \n",
       "75%        0.674258      0.640132      0.683644      0.663577      0.682270   \n",
       "max        3.986217      5.324941      4.091164      3.672437      4.396441   \n",
       "\n",
       "       ...            11            12            13            14  \\\n",
       "count  ...  10000.000000  10000.000000  10000.000000  10000.000000   \n",
       "mean   ...      0.022596     -0.011685      0.518786      0.003125   \n",
       "std    ...      0.998053      0.991342      1.807160      0.993287   \n",
       "min    ...     -4.152376     -4.129424     -5.816367     -3.650499   \n",
       "25%    ...     -0.643716     -0.676067     -0.723655     -0.677824   \n",
       "50%    ...      0.020412      0.002989      0.537565     -0.001667   \n",
       "75%    ...      0.686818      0.651143      1.750244      0.684668   \n",
       "max    ...      3.781176      3.612928      6.934468      3.985126   \n",
       "\n",
       "                 15            16            17            18            19  \\\n",
       "count  10000.000000  10000.000000  10000.000000  10000.000000  10000.000000   \n",
       "mean       0.004473      0.777638     -0.003698     -0.504460     -0.004944   \n",
       "std        0.998520      2.238087      0.996981      1.669316      0.996607   \n",
       "min       -3.784189     -6.284353     -4.191037     -6.505326     -4.940640   \n",
       "25%       -0.653865     -0.819720     -0.677925     -1.557157     -0.684362   \n",
       "50%        0.005032      0.762738     -0.005047     -0.652369     -0.001781   \n",
       "75%        0.685858      2.386938      0.655119      0.477578      0.668673   \n",
       "max        3.634264      9.345701      3.465004      7.400703      4.342353   \n",
       "\n",
       "             target  \n",
       "count  10000.000000  \n",
       "mean       0.499600  \n",
       "std        0.500025  \n",
       "min        0.000000  \n",
       "25%        0.000000  \n",
       "50%        0.000000  \n",
       "75%        1.000000  \n",
       "max        1.000000  \n",
       "\n",
       "[8 rows x 21 columns]"
      ]
     },
     "execution_count": 10,
     "metadata": {},
     "output_type": "execute_result"
    }
   ],
   "source": [
    "data.describe()"
   ]
  },
  {
   "cell_type": "code",
   "execution_count": 12,
   "metadata": {
    "ExecuteTime": {
     "end_time": "2021-07-26T13:24:44.700442Z",
     "start_time": "2021-07-26T13:24:44.691446Z"
    }
   },
   "outputs": [
    {
     "data": {
      "text/plain": [
       "2"
      ]
     },
     "execution_count": 12,
     "metadata": {},
     "output_type": "execute_result"
    }
   ],
   "source": [
    "## Determining unique values for target column\n",
    "\n",
    "data['target'].nunique()"
   ]
  },
  {
   "cell_type": "code",
   "execution_count": 11,
   "metadata": {
    "ExecuteTime": {
     "end_time": "2021-07-26T13:23:03.139501Z",
     "start_time": "2021-07-26T13:23:03.106498Z"
    }
   },
   "outputs": [
    {
     "data": {
      "text/plain": [
       "0    5004\n",
       "1    4996\n",
       "Name: target, dtype: int64"
      ]
     },
     "execution_count": 11,
     "metadata": {},
     "output_type": "execute_result"
    }
   ],
   "source": [
    "## Determining class balance\n",
    "\n",
    "data['target'].value_counts()"
   ]
  },
  {
   "cell_type": "markdown",
   "metadata": {},
   "source": [
    "**# Features:** 20\n",
    "\n",
    "**# Classes:** 2\n",
    "\n",
    "**Balanced?** Yes; imbalance around 5:1 count"
   ]
  },
  {
   "cell_type": "markdown",
   "metadata": {},
   "source": [
    "#### Train-test split (`random_state` = 666) and standard scale all features\n",
    "\n",
    "  - Why do we standardize *after* the train test split, and not before?\n",
    "\n",
    "  - Why do we scale the training data separately from the testing data?"
   ]
  },
  {
   "cell_type": "code",
   "execution_count": 14,
   "metadata": {
    "ExecuteTime": {
     "end_time": "2021-07-26T13:29:56.147325Z",
     "start_time": "2021-07-26T13:29:56.115337Z"
    }
   },
   "outputs": [],
   "source": [
    "# Separate data into feature and target DataFrames\n",
    "X = data.drop('target', axis = 1).copy()\n",
    "y = data['target'].copy()\n",
    "\n",
    "# Split data into train and test sets\n",
    "X_train, X_test, y_train, y_test = train_test_split(X, y, random_state=666)\n",
    "\n",
    "# Scale the data for modeling\n",
    "scaler = StandardScaler()\n",
    "scaler.fit(X_train)\n",
    "X_train_sc = scaler.transform(X_train)\n",
    "X_test_sc = scaler.transform(X_test)"
   ]
  },
  {
   "cell_type": "markdown",
   "metadata": {},
   "source": [
    "#### Create a logistic regression model with the first three features of the training data (with no regularization)"
   ]
  },
  {
   "cell_type": "code",
   "execution_count": 28,
   "metadata": {
    "ExecuteTime": {
     "end_time": "2021-07-26T13:40:17.066923Z",
     "start_time": "2021-07-26T13:40:17.042895Z"
    }
   },
   "outputs": [
    {
     "data": {
      "text/plain": [
       "LogisticRegression()"
      ]
     },
     "execution_count": 28,
     "metadata": {},
     "output_type": "execute_result"
    }
   ],
   "source": [
    "## Pulling rows from nested arrays\n",
    "first_three_train = X_train_sc[:,:3]\n",
    "\n",
    "# Train a logistic regresssion model with the train data\n",
    "log_reg = LogisticRegression()\n",
    "log_reg.fit(first_three_train, y_train)"
   ]
  },
  {
   "cell_type": "markdown",
   "metadata": {},
   "source": [
    "#### Get predictions for this 3-feature model for the training data\n",
    "\n",
    "- Assign them to `train_preds_3`"
   ]
  },
  {
   "cell_type": "code",
   "execution_count": 29,
   "metadata": {
    "ExecuteTime": {
     "end_time": "2021-07-26T13:40:17.503415Z",
     "start_time": "2021-07-26T13:40:17.493415Z"
    }
   },
   "outputs": [],
   "source": [
    "train_preds_3 = log_reg.predict(first_three)"
   ]
  },
  {
   "cell_type": "markdown",
   "metadata": {},
   "source": [
    "#### Get predictions for this 3-feature model for the testing data\n",
    "\n",
    "- Assign them to `test_preds_3`"
   ]
  },
  {
   "cell_type": "code",
   "execution_count": 30,
   "metadata": {
    "ExecuteTime": {
     "end_time": "2021-07-26T13:40:17.925115Z",
     "start_time": "2021-07-26T13:40:17.908117Z"
    }
   },
   "outputs": [],
   "source": [
    "# Pulling rows from nested array for test\n",
    "first_three_test = X_test_sc[:,:3]\n",
    "\n",
    "test_preds_3 = log_reg.predict(first_three)"
   ]
  },
  {
   "cell_type": "markdown",
   "metadata": {},
   "source": [
    "# Evaluate"
   ]
  },
  {
   "cell_type": "markdown",
   "metadata": {},
   "source": [
    "Generate two confusion matrices, one each for the training predictions and testing predictions\n",
    "\n",
    "Calculate the accuracy, recall, and precision for the training predictions\n",
    "\n",
    " Calculate the accuracy, recall, and precision for the testing predictions"
   ]
  },
  {
   "cell_type": "code",
   "execution_count": 42,
   "metadata": {
    "ExecuteTime": {
     "end_time": "2021-07-26T13:44:05.852799Z",
     "start_time": "2021-07-26T13:44:05.842803Z"
    },
    "code_folding": []
   },
   "outputs": [],
   "source": [
    "def evaluate_classification(log_reg, X_test_tf, y_test,classes=None,\n",
    "                            cmap='Reds',normalize='true', figsize=(10,4)):\n",
    "      \n",
    "    y_hat_test = log_reg.predict(X_test_tf)\n",
    "    \n",
    "    print('|' + '----'*4 + ' Classification Matrix ' + '---'*5 + '|'+ '\\n')\n",
    "    print(classification_report(y_test, y_hat_test,\n",
    "                                        target_names=classes))\n",
    "    print('|' + '---'*17 + '---'+'|'+'\\n')\n",
    "    \n",
    "    fig, ax = plt.subplots(ncols=2, figsize = figsize)\n",
    "    plot_confusion_matrix(log_reg, X_test_tf,y_test,cmap=cmap,\n",
    "                                  normalize=normalize, display_labels=classes,\n",
    "                                 ax=ax[0])\n",
    "\n",
    "    curve = plot_roc_curve(log_reg, X_test_tf, y_test,ax=ax[1])\n",
    "    curve.ax_.grid()\n",
    "    curve.ax_.plot([0,1],[0,1], ls=':')\n",
    "    \n",
    "    plt.tight_layout()\n",
    "    \n",
    "    return None"
   ]
  },
  {
   "cell_type": "code",
   "execution_count": 45,
   "metadata": {
    "ExecuteTime": {
     "end_time": "2021-07-26T13:44:59.333354Z",
     "start_time": "2021-07-26T13:44:58.787439Z"
    }
   },
   "outputs": [
    {
     "name": "stdout",
     "output_type": "stream",
     "text": [
      "|---------------- Classification Matrix ---------------|\n",
      "\n",
      "              precision    recall  f1-score   support\n",
      "\n",
      "           0       0.79      0.75      0.77      3771\n",
      "           1       0.76      0.80      0.78      3729\n",
      "\n",
      "    accuracy                           0.78      7500\n",
      "   macro avg       0.78      0.78      0.78      7500\n",
      "weighted avg       0.78      0.78      0.78      7500\n",
      "\n",
      "|------------------------------------------------------|\n",
      "\n"
     ]
    },
    {
     "data": {
      "image/png": "[encoded data removed]",
      "text/plain": [
       "<Figure size 720x288 with 3 Axes>"
      ]
     },
     "metadata": {
      "needs_background": "light"
     },
     "output_type": "display_data"
    }
   ],
   "source": [
    "evaluate_classification(log_reg, first_three_train, y_train, cmap='Blues', \n",
    "                      normalize='true');"
   ]
  },
  {
   "cell_type": "code",
   "execution_count": 49,
   "metadata": {
    "ExecuteTime": {
     "end_time": "2021-07-26T13:45:39.347185Z",
     "start_time": "2021-07-26T13:45:38.901144Z"
    }
   },
   "outputs": [
    {
     "name": "stdout",
     "output_type": "stream",
     "text": [
      "|---------------- Classification Matrix ---------------|\n",
      "\n",
      "              precision    recall  f1-score   support\n",
      "\n",
      "           0       0.78      0.75      0.76      1233\n",
      "           1       0.76      0.79      0.78      1267\n",
      "\n",
      "    accuracy                           0.77      2500\n",
      "   macro avg       0.77      0.77      0.77      2500\n",
      "weighted avg       0.77      0.77      0.77      2500\n",
      "\n",
      "|------------------------------------------------------|\n",
      "\n"
     ]
    },
    {
     "data": {
      "image/png": "[encoded data removed]",
      "text/plain": [
       "<Figure size 720x288 with 3 Axes>"
      ]
     },
     "metadata": {
      "needs_background": "light"
     },
     "output_type": "display_data"
    }
   ],
   "source": [
    "evaluate_classification(log_reg, first_three_test, y_test, cmap='Blues', \n",
    "                      normalize='true');"
   ]
  },
  {
   "cell_type": "code",
   "execution_count": null,
   "metadata": {},
   "outputs": [],
   "source": [
    "#your work here"
   ]
  },
  {
   "cell_type": "markdown",
   "metadata": {},
   "source": [
    "# Over-/Under-fitting"
   ]
  },
  {
   "cell_type": "markdown",
   "metadata": {},
   "source": [
    "#### Is the model over- or under-fitting?  How can you tell?\n",
    "\n",
    "#### Is bias or variance more of a problem with this model?"
   ]
  },
  {
   "cell_type": "markdown",
   "metadata": {},
   "source": [
    "* Underfitting due to poor performance (domain-specific determination; poor in this case due to small dataset)\n",
    "\n",
    "* Bias due to poor prediction on both"
   ]
  },
  {
   "cell_type": "markdown",
   "metadata": {},
   "source": [
    "#### Run models with the first 10 variables, then another model with all the variables"
   ]
  },
  {
   "cell_type": "markdown",
   "metadata": {},
   "source": [
    "  - Generate confusion matrices and calculate accuracy, precision and recall as you did above\n",
    "  - **BONUS**: use functions to do so!"
   ]
  },
  {
   "cell_type": "code",
   "execution_count": 51,
   "metadata": {
    "ExecuteTime": {
     "end_time": "2021-07-26T14:16:59.493640Z",
     "start_time": "2021-07-26T14:16:58.945638Z"
    }
   },
   "outputs": [
    {
     "name": "stdout",
     "output_type": "stream",
     "text": [
      "|---------------- Classification Matrix ---------------|\n",
      "\n",
      "              precision    recall  f1-score   support\n",
      "\n",
      "           0       0.88      0.85      0.87      3771\n",
      "           1       0.85      0.89      0.87      3729\n",
      "\n",
      "    accuracy                           0.87      7500\n",
      "   macro avg       0.87      0.87      0.87      7500\n",
      "weighted avg       0.87      0.87      0.87      7500\n",
      "\n",
      "|------------------------------------------------------|\n",
      "\n"
     ]
    },
    {
     "data": {
      "image/png": "[encoded data removed]",
      "text/plain": [
       "<Figure size 720x288 with 3 Axes>"
      ]
     },
     "metadata": {
      "needs_background": "light"
     },
     "output_type": "display_data"
    }
   ],
   "source": [
    "## Pulling rows from nested arrays\n",
    "first_ten_train = X_train_sc[:,:10]\n",
    "\n",
    "# Train a logistic regresssion model with the train data\n",
    "log_reg_ten = LogisticRegression()\n",
    "log_reg_ten.fit(first_ten_train, y_train)\n",
    "\n",
    "evaluate_classification(log_reg_ten, first_ten_train, y_train, cmap='Blues', \n",
    "                      normalize='true');"
   ]
  },
  {
   "cell_type": "code",
   "execution_count": 54,
   "metadata": {
    "ExecuteTime": {
     "end_time": "2021-07-26T14:20:39.567718Z",
     "start_time": "2021-07-26T14:20:38.945719Z"
    }
   },
   "outputs": [
    {
     "name": "stdout",
     "output_type": "stream",
     "text": [
      "|---------------- Classification Matrix ---------------|\n",
      "\n",
      "              precision    recall  f1-score   support\n",
      "\n",
      "           0       0.88      0.84      0.86      1233\n",
      "           1       0.85      0.89      0.87      1267\n",
      "\n",
      "    accuracy                           0.87      2500\n",
      "   macro avg       0.87      0.87      0.87      2500\n",
      "weighted avg       0.87      0.87      0.87      2500\n",
      "\n",
      "|------------------------------------------------------|\n",
      "\n"
     ]
    },
    {
     "data": {
      "image/png": "[encoded data removed]",
      "text/plain": [
       "<Figure size 720x288 with 3 Axes>"
      ]
     },
     "metadata": {
      "needs_background": "light"
     },
     "output_type": "display_data"
    }
   ],
   "source": [
    "# Train a logistic regresssion model with the test data\n",
    "log_reg_all = LogisticRegression()\n",
    "log_reg_all.fit(X_test_sc, y_test)\n",
    "\n",
    "evaluate_classification(log_reg_all, X_test_sc, y_test, cmap='Blues', \n",
    "                      normalize='true');"
   ]
  },
  {
   "cell_type": "markdown",
   "metadata": {},
   "source": [
    "#### How is the problem you diagnosed in the 3-variable model altered in the 10-variable and 20-variable models?"
   ]
  },
  {
   "cell_type": "markdown",
   "metadata": {},
   "source": [
    "* Better performance, 9% increase on AUCs and accuracy scores on full data"
   ]
  },
  {
   "cell_type": "markdown",
   "metadata": {},
   "source": [
    "#### What new problems crop up?"
   ]
  },
  {
   "cell_type": "markdown",
   "metadata": {},
   "source": [
    "* Increased false positives (lower recall and F1 scores on test data)"
   ]
  },
  {
   "cell_type": "code",
   "execution_count": null,
   "metadata": {},
   "outputs": [],
   "source": []
  }
 ],
 "metadata": {
  "kernelspec": {
   "display_name": "Python 3",
   "language": "python",
   "name": "python3"
  },
  "language_info": {
   "codemirror_mode": {
    "name": "ipython",
    "version": 3
   },
   "file_extension": ".py",
   "mimetype": "text/x-python",
   "name": "python",
   "nbconvert_exporter": "python",
   "pygments_lexer": "ipython3",
   "version": "3.8.5"
  },
  "toc": {
   "base_numbering": 1,
   "nav_menu": {},
   "number_sections": true,
   "sideBar": true,
   "skip_h1_title": false,
   "title_cell": "Table of Contents",
   "title_sidebar": "Contents",
   "toc_cell": false,
   "toc_position": {},
   "toc_section_display": true,
   "toc_window_display": false
  }
 },
 "nbformat": 4,
 "nbformat_minor": 4
}
